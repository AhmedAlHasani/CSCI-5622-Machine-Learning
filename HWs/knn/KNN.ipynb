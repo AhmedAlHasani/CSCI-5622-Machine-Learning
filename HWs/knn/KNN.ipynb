{
 "cells": [
  {
   "cell_type": "markdown",
   "metadata": {},
   "source": [
    "# K-Nearest Neighbors Homework Solutions\n",
    "***\n",
    "**Name**: $<$insert name here$>$ \n",
    "***\n",
    "\n",
    "This assignment is due on Moodle by **5pm on Friday January 26th**. Submit only this Jupyter notebook to Moodle.  Do not compress it using tar, rar, zip, etc. Your solutions to analysis questions should be done in Markdown directly below the associated question.  Remember that you are encouraged to discuss the problems with your instructors and classmates, but **you must write all code and solutions on your own**.  For a refresher on the course **Collaboration Policy** click [here](https://github.com/chrisketelsen/CSCI5622-Machine-Learning/blob/master/resources/syllabus.md#collaboration-policy)\n",
    "\n"
   ]
  },
  {
   "cell_type": "markdown",
   "metadata": {},
   "source": [
    "## Overview \n",
    "***\n",
    "\n",
    "\n",
    "In this homework you'll implement a K-Nearest Neighbor framework to take an image of a handwritten digit and predict which digit it corresponds to.  \n",
    "\n",
    "<br>\n",
    "\n",
    "![Samples of Handwritten Digits](wide_mnist.png \"MNIST Digits\")\n",
    "\n",
    "\n",
    "<br>\n",
    "\n",
    "This homework is designed to be pretty easy. If you're spending a ton of time on this assignment, then you are either:\n",
    "\n",
    "- not prepared to take this course (i.e., if you're struggling with Python)\n",
    "- seriously over-thinking the assignment\n",
    "- trying to implement too much of KNN from scratch\n",
    "\n",
    "\n",
    "Most of this assignment will be done by calling libraries that are already implemented for you. If you are implementing $n$-dimensional search or your own distance metrics, you are generating extra work for yourself and making yourself vulnerable to errors. \n",
    "\n",
    "Here are the rules: \n",
    "\n",
    "- Do **NOT** load or use any Python packages that are not available in Anaconda 3.6. \n",
    "- Some problems with code may be autograded.  If we provide a function or class API **do not** change it.\n",
    "- Do not change the location of the data or data directory.  Use only relative paths to access the data. "
   ]
  },
  {
   "cell_type": "code",
   "execution_count": 1,
   "metadata": {
    "collapsed": true
   },
   "outputs": [],
   "source": [
    "import numpy as np\n",
    "import matplotlib.pylab as plt\n",
    "%matplotlib inline "
   ]
  },
  {
   "cell_type": "markdown",
   "metadata": {},
   "source": [
    "### [5 points] Problem 1\n",
    "***\n",
    "\n",
    "The class below will load and store the MNIST data.  Load the data and then report: \n",
    "- The number of examples in the training set \n",
    "- The number of examples in the test set \n",
    "- The number of pixels in each image. "
   ]
  },
  {
   "cell_type": "code",
   "execution_count": 2,
   "metadata": {
    "collapsed": true
   },
   "outputs": [],
   "source": [
    "import unittest\n",
    "import numpy as np\n",
    "from sklearn.neighbors import BallTree\n",
    "import pickle, gzip\n",
    "import random\n",
    "\n",
    "class Numbers:\n",
    "    \"\"\"\n",
    "    Class to store MNIST data\n",
    "    \"\"\"\n",
    "    def __init__(self, location):\n",
    "\n",
    "        import pickle, gzip\n",
    "\n",
    "        # load data from file \n",
    "        f = gzip.open(location, 'rb')\n",
    "        train_set, valid_set, test_set = pickle.load(f)\n",
    "        f.close()\n",
    "\n",
    "        # store for use later  \n",
    "        self.train_x, self.train_y = train_set\n",
    "        self.test_x, self.test_y = valid_set\n",
    "        \n",
    "        print(len(self.train_x)) #Number of example in training set: 50,000\n",
    "        print(len(self.test_x)) #Number of examples in test set = 10,000\n",
    "        print(len(self.test_x[0])) #Number of pixels = 784"
   ]
  },
  {
   "cell_type": "code",
   "execution_count": 3,
   "metadata": {},
   "outputs": [
    {
     "name": "stdout",
     "output_type": "stream",
     "text": [
      "50000\n",
      "10000\n",
      "784\n"
     ]
    }
   ],
   "source": [
    "data = Numbers(\"../data/mnist.pklz\")"
   ]
  },
  {
   "cell_type": "markdown",
   "metadata": {},
   "source": [
    "### [30 points] Problem 2\n",
    "***\n",
    "\n",
    "The class below will perform K-Nearest Neighbor classification on our handwritten digit data. Your tasks are as follows:   \n",
    "\n",
    "1. Modify the `label_counts` function to return a dictionary of frequencies corresponding to each label in the training set. \n",
    "1. Modify the `majority` function so that it returns the _label_ that appears most frequently in the $K$-nearest neighbors of the query point.  In the case that the maximum frequency occurs for two or more labels, return the one that appears most frequently in the entire training set. In the case that there is still a tie, break the tie in any way that you choose. \n",
    "1. Modify the `classify` function so that it finds the _indices_ of the $K$ closest training examples to the query point and then calls the `majority` function to return the predicted label. Almost all of the heavy lifting here will be done by the BallTree object from `sklearn.neighbors`, so you'll want to start out by reading the [documentation](http://scikit-learn.org/stable/modules/generated/sklearn.neighbors.BallTree.html).  \n",
    "1. Modify the `confusion_matrix` function to classify examples and record the results in a confusion matrix. You should construct the confusion matrix on your own.  Don't call any additional functions from sklearn to do it for you.\n",
    "\n",
    "The class Knearest also implements an `accuracy` function which you will use in **Problem 3**.  You should not have to modify this function. \n",
    "\n",
    "We've given you unit tests down below based on the simple example worked out in lecture.  At first your code will fail all of them.  Do not move on to **Problem 3** until your code passes all of the unit tests. In addition, passing the unit tests does not guarantee that your implementation is robust and that you'll earn full points on this problem.  You should be designing your own additional tests as well. "
   ]
  },
  {
   "cell_type": "code",
   "execution_count": 4,
   "metadata": {
    "collapsed": true
   },
   "outputs": [],
   "source": [
    "import unittest\n",
    "import numpy as np\n",
    "from sklearn.neighbors import BallTree\n",
    "import pickle, gzip\n",
    "import random\n",
    "\n",
    "class Knearest:\n",
    "    \"\"\"\n",
    "    kNN classifier\n",
    "    \"\"\"\n",
    "\n",
    "    def __init__(self, X, y, k=5):\n",
    "        \"\"\"\n",
    "        Creates a kNN instance\n",
    "\n",
    "        :param x: Training data input\n",
    "        :param y: Training data output\n",
    "        :param k: The number of nearest points to consider in classification\n",
    "        \"\"\"\n",
    "        \n",
    "        from sklearn.neighbors import BallTree\n",
    "\n",
    "        self._kdtree = BallTree(X)\n",
    "        self._y = y\n",
    "        self._k = k\n",
    "        self._counts = self.label_counts()\n",
    "        \n",
    "    def label_counts(self):\n",
    "        \"\"\"\n",
    "        Given the training labels, return a dictionary d where d[y] is  \n",
    "        the number of times that label y appears in the training set. \n",
    "        \"\"\"\n",
    "        dictionary = { }\n",
    "        for labels in self._y:\n",
    "            if labels not in dictionary:\n",
    "                dictionary[labels] = 0\n",
    "            dictionary[labels] += 1\n",
    "\n",
    "        return dictionary\n",
    "\n",
    "    def majority(self, neighbor_indices):\n",
    "        \"\"\"\n",
    "        Given the indices of training examples, return the majority label. Break ties \n",
    "        by choosing the tied label that appears most often in the training data. \n",
    "\n",
    "        :param neighbor_indices: The indices of the k nearest neighbors\n",
    "        \"\"\"\n",
    "        assert len(neighbor_indices) == self._k, \"Did not get k neighbor indices\"\n",
    "        \n",
    "        neighbor_labels = [self._y[i] for i in neighbor_indices] #given indices, grab the corresponding labels from self._y\n",
    "        \n",
    "        labels_frequency = { }\n",
    "        for labels in neighbor_labels:\n",
    "            if labels not in labels_frequency:\n",
    "                labels_frequency[labels] = 0\n",
    "            labels_frequency[labels] += 1\n",
    "            \n",
    "        maximum = max(labels_frequency, key = labels_frequency.get)\n",
    "        maximum_label = 0\n",
    "\n",
    "        if labels_frequency[maximum] == 1:\n",
    "            for x in labels_frequency:\n",
    "                if self._counts[x] > maximum_label:\n",
    "                    maximum_label = self._counts[x]\n",
    "                    maximum = x\n",
    "\n",
    "        return maximum\n",
    "    \n",
    "\n",
    "    def classify(self, example):\n",
    "        \"\"\"\n",
    "        Given an example, return the predicted label. \n",
    "\n",
    "        :param example: A representation of an example in the same\n",
    "        format as a row of the training data\n",
    "        \"\"\"\n",
    "        \n",
    "        dist, ind = self._kdtree.query(np.array(example).reshape(1, -1), k=self._k)\n",
    "        return self.majority(ind[0])\n",
    "\n",
    "\n",
    "    def confusion_matrix(self, test_x, test_y):\n",
    "        \"\"\"\n",
    "        Given a matrix of test examples and labels, compute the confusion\n",
    "        matrix for the current classifier.  Should return a 2-dimensional\n",
    "        numpy array of ints, C, where C[ii,jj] is the number of times an \n",
    "        example with true label ii was labeled as jj.\n",
    "\n",
    "        :param test_x: test data \n",
    "        :param test_y: true test labels \n",
    "        \"\"\"\n",
    "        \n",
    "        C = np.zeros((10,10), dtype=int)\n",
    "        for xx, yy in zip(test_x, test_y):\n",
    "            jj = self.classify(xx) #return the predicted label\n",
    "            C[yy][jj] += 1 #increase by 1 where true label and predicted label intersect \n",
    "        \n",
    "        return C \n",
    "            \n",
    "    @staticmethod\n",
    "    def accuracy(C):\n",
    "        \"\"\"\n",
    "        Given a confusion matrix C, compute the accuracy of the underlying classifier.\n",
    "        \n",
    "        :param C: a confusion matrix \n",
    "        \"\"\"\n",
    "        \n",
    "        return np.sum(C.diagonal()) / C.sum()\n",
    "        "
   ]
  },
  {
   "cell_type": "markdown",
   "metadata": {},
   "source": [
    "Here are the unit tests.  You don't need to modify them.  Simply execute the cell and observe the output. "
   ]
  },
  {
   "cell_type": "code",
   "execution_count": 5,
   "metadata": {
    "scrolled": true
   },
   "outputs": [
    {
     "name": "stderr",
     "output_type": "stream",
     "text": [
      "....\n",
      "----------------------------------------------------------------------\n",
      "Ran 4 tests in 0.006s\n",
      "\n",
      "OK\n"
     ]
    },
    {
     "data": {
      "text/plain": [
       "<unittest.runner.TextTestResult run=4 errors=0 failures=0>"
      ]
     },
     "execution_count": 5,
     "metadata": {},
     "output_type": "execute_result"
    }
   ],
   "source": [
    "import unittest\n",
    "\n",
    "class TestKnn(unittest.TestCase):\n",
    "    def setUp(self):\n",
    "        self.x = np.array([[2, 0], [4, 1], [6, 0], [1, 4], [2, 4], [2, 5], [4, 4], [0, 2], [3, 2], [4, 2], [5, 2], [5, 5]])\n",
    "        self.y = np.array([+1, +1, +1, +1, +1, +1, +1, -1, -1, -1, -1, -1])\n",
    "        self.knn = {}\n",
    "        for ii in [1, 2, 3]:\n",
    "            self.knn[ii] = Knearest(self.x, self.y, ii)\n",
    "\n",
    "        self.queries = np.array([[1, 5], [0, 3], [6, 4]])\n",
    "        \n",
    "    def test0(self):\n",
    "        \"\"\"\n",
    "        Test the label counter \n",
    "        \"\"\"\n",
    "        self.assertEqual(self.knn[1]._counts[-1], 5)\n",
    "        self.assertEqual(self.knn[1]._counts[1], 7)\n",
    "\n",
    "    def test1(self):\n",
    "        \"\"\"\n",
    "        Test 1NN\n",
    "        \"\"\"\n",
    "        self.assertEqual(self.knn[1].classify(self.queries[0]),  1)\n",
    "        self.assertEqual(self.knn[1].classify(self.queries[1]), -1)\n",
    "        self.assertEqual(self.knn[1].classify(self.queries[2]), -1)\n",
    "\n",
    "    def test2(self):\n",
    "        \"\"\"\n",
    "        Test 2NN\n",
    "        \"\"\"\n",
    "        self.assertEqual(self.knn[2].classify(self.queries[0]),  1)\n",
    "        self.assertEqual(self.knn[2].classify(self.queries[1]),  1)\n",
    "        self.assertEqual(self.knn[2].classify(self.queries[2]),  1)\n",
    "\n",
    "    def test3(self):\n",
    "        \"\"\"\n",
    "        Test 3NN\n",
    "        \"\"\"\n",
    "        self.assertEqual(self.knn[3].classify(self.queries[0]),  1)\n",
    "        self.assertEqual(self.knn[3].classify(self.queries[1]),  1)\n",
    "        self.assertEqual(self.knn[3].classify(self.queries[2]), -1)\n",
    "        \n",
    "tests = TestKnn()\n",
    "tests_to_run = unittest.TestLoader().loadTestsFromModule(tests)\n",
    "unittest.TextTestRunner().run(tests_to_run)"
   ]
  },
  {
   "cell_type": "markdown",
   "metadata": {},
   "source": [
    "### [15 points] Problem 3\n",
    "***\n",
    "\n",
    "In this problem you'll explore the performance of the classifier you've written.  A word of advice: don't use the entire training set, especially at first.  We'll be using this dataset again later on with techniques that scale better.    "
   ]
  },
  {
   "cell_type": "markdown",
   "metadata": {},
   "source": [
    "**Part A**: Explore the relationship between the number of training examples and accuracy on the test set. Comment on your findings and support your observations with some kind of graphic. "
   ]
  },
  {
   "cell_type": "code",
   "execution_count": null,
   "metadata": {
    "collapsed": true
   },
   "outputs": [],
   "source": [
    "'''\n",
    "The higher the number of training examples the higher the accuracy, which is valid because there are more examples \n",
    "included which allows our programs to draw more accurate conclusions when classifying images. For instance, if the number of \n",
    "training examples were only 5, then classifying an image based on a small data size results in a high chance of error. Whereas\n",
    "if my training examples were 100, then classifying an image will be more accurate.\n",
    "\n",
    "It is important to note that k = 3 gave an overall higher accuracy for corresponding data sizes with k = 2, which will be \n",
    "explored further in part B below.\n",
    "\n",
    "Running the code below, will plot a line graph from 1000 to 10,000 data size with an increment of 1000 for both k = 2 and k = 3.\n",
    "'''"
   ]
  },
  {
   "cell_type": "code",
   "execution_count": 6,
   "metadata": {
    "collapsed": true
   },
   "outputs": [],
   "source": [
    "import unittest\n",
    "import numpy as np\n",
    "from sklearn.neighbors import BallTree\n",
    "import matplotlib.pylab as plt\n",
    "import matplotlib.cm as cm\n",
    "import pickle, gzip\n",
    "import random\n",
    "from collections import Counter\n",
    "\n",
    "class Numbers:\n",
    "    def __init__(self, location):\n",
    "        f = gzip.open(location, 'rb')\n",
    "        train_set, valid_set, test_set = pickle.load(f)\n",
    "        f.close()\n",
    "\n",
    "        # store for use later  \n",
    "        self.train_x, self.train_y = train_set\n",
    "        self.test_x, self.test_y = valid_set\n",
    "\n",
    "class Knearest:\n",
    "    \"\"\"\n",
    "    kNN classifier\n",
    "    \"\"\"\n",
    "    def __init__(self, X, y, k=5):\n",
    "        \"\"\"\n",
    "        Creates a kNN instance\n",
    "        :param x: Training data input\n",
    "        :param y: Training data output\n",
    "        :param k: The number of nearest points to consider in classification\n",
    "        \"\"\"\n",
    "\n",
    "        self._kdtree = BallTree(X)\n",
    "        self._y = y\n",
    "        self._k = k\n",
    "        self._counts = self.label_counts()\n",
    "        \n",
    "    def label_counts(self): \n",
    "        dictionary = { }\n",
    "        for labels in self._y:\n",
    "            if labels not in dictionary:\n",
    "                dictionary[labels] = 0\n",
    "            dictionary[labels] += 1\n",
    "\n",
    "        return dictionary\n",
    "\n",
    "    def majority(self, neighbor_indices):\n",
    "        assert len(neighbor_indices) == self._k, \"Did not get k neighbor indices\"\n",
    "\n",
    "        neighbor_labels = [self._y[i] for i in neighbor_indices] #given indices, grab the corresponding labels from self._y\n",
    "        \n",
    "        labels_frequency = { }\n",
    "        for labels in neighbor_labels:\n",
    "            if labels not in labels_frequency:\n",
    "                labels_frequency[labels] = 0\n",
    "            labels_frequency[labels] += 1\n",
    "            \n",
    "        maximum = max(labels_frequency, key = labels_frequency.get)\n",
    "        maximum_label = 0\n",
    "\n",
    "        if labels_frequency[maximum] == 1:\n",
    "            for x in labels_frequency:\n",
    "                if self._counts[x] > maximum_label:\n",
    "                    maximum_label = self._counts[x]\n",
    "                    maximum = x\n",
    "\n",
    "        return maximum\n",
    "    \n",
    "    def classify(self, example):\n",
    "        dist, ind = self._kdtree.query(np.array(example).reshape(1, -1), k=self._k)\n",
    "        return self.majority(ind[0])\n",
    "\n",
    "    def confusion_matrix(self, test_x, test_y):\n",
    "        C = np.zeros((10,10), dtype=int)\n",
    "        picture_index = 0\n",
    "        for xx, yy in zip(test_x, test_y):\n",
    "            jj = self.classify(xx) #return the predicted label\n",
    "            C[yy][jj] += 1 #increase by 1 where true label and predicted label intersect\n",
    "            \n",
    "            '''if jj == 5 and picture_index < 5:\n",
    "                plt.imshow(xx.reshape((28, 28)), cmap=cm.Greys_r)\n",
    "                plt.show()\n",
    "                picture_index+=1'''\n",
    "\n",
    "        #print(C)\n",
    "        return C \n",
    "            \n",
    "    @staticmethod\n",
    "    def accuracy(C):\n",
    "        return np.sum(C.diagonal()) / C.sum()\n",
    "    \n",
    "    def view_digit(example, label=None):\n",
    "        if label: print(\"true label: {:d}\".format(label))\n",
    "        plt.imshow(example.reshape(28,28), cmap='gray');"
   ]
  },
  {
   "cell_type": "code",
   "execution_count": 7,
   "metadata": {},
   "outputs": [
    {
     "name": "stdout",
     "output_type": "stream",
     "text": [
      "[0.93300000000000005, 0.94899999999999995, 0.95099999999999996, 0.95999999999999996, 0.96640000000000004, 0.96783333333333332, 0.97142857142857142, 0.97024999999999995, 0.97011111111111115, 0.97060000000000002]\n"
     ]
    },
    {
     "data": {
      "image/png": "[encoded data removed]",
      "text/plain": [
       "<matplotlib.figure.Figure at 0x2596918ceb8>"
      ]
     },
     "metadata": {},
     "output_type": "display_data"
    },
    {
     "name": "stdout",
     "output_type": "stream",
     "text": [
      "[0.92700000000000005, 0.95350000000000001, 0.96033333333333337, 0.96825000000000006, 0.96999999999999997, 0.97150000000000003, 0.97328571428571431, 0.97350000000000003, 0.97399999999999998, 0.97460000000000002]\n"
     ]
    },
    {
     "data": {
      "image/png": "[encoded data removed]",
      "text/plain": [
       "<matplotlib.figure.Figure at 0x259006c7d30>"
      ]
     },
     "metadata": {},
     "output_type": "display_data"
    }
   ],
   "source": [
    "data = Numbers(\"../data/mnist.pklz\")\n",
    "data_size = [1000, 2000, 3000, 4000, 5000, 6000, 7000, 8000, 9000, 10000]\n",
    "k = 2\n",
    "accuracyList = [0, 0, 0 ,0, 0, 0, 0, 0, 0, 0]\n",
    "index = 0\n",
    "for size in data_size:\n",
    "    knn = Knearest(data.train_x[:size], data.train_y[:size], k)\n",
    "    C = knn.confusion_matrix(data.train_x[:size], data.train_y[:size])\n",
    "    accurate = knn.accuracy(C)\n",
    "    accuracyList[index] = accurate\n",
    "    index+=1\n",
    "print(accuracyList)\n",
    "plt.title(\"Accuracy vs. Data Size with K=2\")\n",
    "plt.plot(data_size, accuracyList, color='g')\n",
    "plt.show()\n",
    "\n",
    "data_size = [1000, 2000, 3000, 4000, 5000, 6000, 7000, 8000, 9000, 10000]\n",
    "k = 3\n",
    "accuracyList = [0, 0, 0 ,0, 0, 0, 0, 0, 0, 0]\n",
    "index = 0\n",
    "for size in data_size:\n",
    "    knn = Knearest(data.train_x[:size], data.train_y[:size], k)\n",
    "    C = knn.confusion_matrix(data.train_x[:size], data.train_y[:size])\n",
    "    accurate = knn.accuracy(C)\n",
    "    accuracyList[index] = accurate\n",
    "    index+=1\n",
    "print(accuracyList)\n",
    "plt.title(\"Accuracy vs. Data Size with K=3\")\n",
    "plt.plot(data_size, accuracyList, color='g')\n",
    "plt.show()"
   ]
  },
  {
   "cell_type": "markdown",
   "metadata": {},
   "source": [
    "\n",
    "**Part B**: Explore the relationship between the number of nearest neighbors and accuracy on the test set. Comment on your findings and support your observations with some kind of graphic. "
   ]
  },
  {
   "cell_type": "markdown",
   "metadata": {
    "collapsed": true
   },
   "source": [
    "\n",
    "Initially, my data size was 7000 and the accuracy for k = 1 was 1.0, k=2 was 0.9714, and k = 3 gave an accuracy of 0.9733.\n",
    "I changed my data size to 10,000 and for k = 1 the accuracy was 1.0, k = 2 was 0.9706 , and k = 3 gave an accuracy of 0.9746. \n",
    "\n",
    "It seems that the least accurate k value was 2. Reasons for this can include that when we have two options to classify an image, \n",
    "we base our classification on the highest label from the self._counts dictionary. While this is more accurate than picking a \n",
    "random classification from the two labels, it still provides a higher chance of error compared to k = 1 or k = 3. \n",
    "When k = 3, ties are initially broken when a label occurs twice in the frequency label and we do not have to resort to \n",
    "self._counts dictionary to pick the highest label from the training set. It provides better accuracy than an even k value. \n",
    "Finally, k = 1 gives the best accuracy of 1.0 because it classifies an image based on the closest neighbor sorted through \n",
    "BallTree().\n"
   ]
  },
  {
   "cell_type": "code",
   "execution_count": 9,
   "metadata": {
    "collapsed": true
   },
   "outputs": [],
   "source": [
    "import unittest\n",
    "import numpy as np\n",
    "from sklearn.neighbors import BallTree\n",
    "import matplotlib.pylab as plt\n",
    "import matplotlib.cm as cm\n",
    "import pickle, gzip\n",
    "import random\n",
    "from collections import Counter\n",
    "\n",
    "class Numbers:\n",
    "    def __init__(self, location):\n",
    "        f = gzip.open(location, 'rb')\n",
    "        train_set, valid_set, test_set = pickle.load(f)\n",
    "        f.close()\n",
    "\n",
    "        # store for use later  \n",
    "        self.train_x, self.train_y = train_set\n",
    "        self.test_x, self.test_y = valid_set\n",
    "\n",
    "class Knearest:\n",
    "    \"\"\"\n",
    "    kNN classifier\n",
    "    \"\"\"\n",
    "    def __init__(self, X, y, k=5):\n",
    "        \"\"\"\n",
    "        Creates a kNN instance\n",
    "        :param x: Training data input\n",
    "        :param y: Training data output\n",
    "        :param k: The number of nearest points to consider in classification\n",
    "        \"\"\"\n",
    "\n",
    "        self._kdtree = BallTree(X)\n",
    "        self._y = y\n",
    "        self._k = k\n",
    "        self._counts = self.label_counts()\n",
    "        \n",
    "    def label_counts(self): \n",
    "        dictionary = { }\n",
    "        for labels in self._y:\n",
    "            if labels not in dictionary:\n",
    "                dictionary[labels] = 0\n",
    "            dictionary[labels] += 1\n",
    "\n",
    "        return dictionary\n",
    "\n",
    "    def majority(self, neighbor_indices):\n",
    "        assert len(neighbor_indices) == self._k, \"Did not get k neighbor indices\"\n",
    "\n",
    "        neighbor_labels = [self._y[i] for i in neighbor_indices] #given indices, grab the corresponding labels from self._y\n",
    "        \n",
    "        labels_frequency = { }\n",
    "        for labels in neighbor_labels:\n",
    "            if labels not in labels_frequency:\n",
    "                labels_frequency[labels] = 0\n",
    "            labels_frequency[labels] += 1\n",
    "            \n",
    "        maximum = max(labels_frequency, key = labels_frequency.get)\n",
    "        maximum_label = 0\n",
    "\n",
    "        if labels_frequency[maximum] == 1:\n",
    "            for x in labels_frequency:\n",
    "                if self._counts[x] > maximum_label:\n",
    "                    maximum_label = self._counts[x]\n",
    "                    maximum = x\n",
    "\n",
    "        return maximum\n",
    "    \n",
    "    def classify(self, example):\n",
    "        dist, ind = self._kdtree.query(np.array(example).reshape(1, -1), k=self._k)\n",
    "        return self.majority(ind[0])\n",
    "\n",
    "    def confusion_matrix(self, test_x, test_y):\n",
    "        C = np.zeros((10,10), dtype=int)\n",
    "        picture_index = 0\n",
    "        for xx, yy in zip(test_x, test_y):\n",
    "            jj = self.classify(xx) #return the predicted label\n",
    "            C[yy][jj] += 1 #increase by 1 where true label and predicted label intersect\n",
    "            \n",
    "            '''if jj == 5 and picture_index < 5:\n",
    "                plt.imshow(xx.reshape((28, 28)), cmap=cm.Greys_r)\n",
    "                plt.show()\n",
    "                picture_index+=1'''\n",
    "\n",
    "        #print(C)\n",
    "        return C \n",
    "            \n",
    "    @staticmethod\n",
    "    def accuracy(C):\n",
    "        return np.sum(C.diagonal()) / C.sum()\n",
    "    \n",
    "    def view_digit(example, label=None):\n",
    "        if label: print(\"true label: {:d}\".format(label))\n",
    "        plt.imshow(example.reshape(28,28), cmap='gray');\n"
   ]
  },
  {
   "cell_type": "code",
   "execution_count": 10,
   "metadata": {},
   "outputs": [
    {
     "name": "stdout",
     "output_type": "stream",
     "text": [
      "[1.0, 0.97142857142857142, 0.97328571428571431]\n"
     ]
    },
    {
     "data": {
      "image/png": "[encoded data removed]",
      "text/plain": [
       "<matplotlib.figure.Figure at 0x25969d52160>"
      ]
     },
     "metadata": {},
     "output_type": "display_data"
    },
    {
     "name": "stdout",
     "output_type": "stream",
     "text": [
      "[1.0, 0.97060000000000002, 0.97460000000000002]\n"
     ]
    },
    {
     "data": {
      "image/png": "[encoded data removed]",
      "text/plain": [
       "<matplotlib.figure.Figure at 0x2590007bfd0>"
      ]
     },
     "metadata": {},
     "output_type": "display_data"
    }
   ],
   "source": [
    "data = Numbers(\"../data/mnist.pklz\")\n",
    "data_size = [7000, 10000]\n",
    "k = [1,2,3]\n",
    "accuracyList = [0, 0, 0]\n",
    "index = 0\n",
    "for size in data_size:\n",
    "    for x in k:\n",
    "        knn = Knearest(data.train_x[:size], data.train_y[:size], x)\n",
    "        C = knn.confusion_matrix(data.train_x[:size], data.train_y[:size])\n",
    "        accurate = knn.accuracy(C)\n",
    "        accuracyList[index] = accurate\n",
    "        index+=1\n",
    "    index = 0\n",
    "    print(accuracyList)\n",
    "    plt.plot(k, accuracyList, color='g')\n",
    "    plt.show()"
   ]
  },
  {
   "cell_type": "markdown",
   "metadata": {},
   "source": [
    "**Part C**: Which numbers get confused with each other the most easily?  Use the confusion_matrix function that you wrote above to support your conclusion.  Then use the `view_digit` function given below to plot a few examples of misclassified digits and discuss possible reasons for the misclassifications.  (Investigating misclassified examples is called **error analysis** and is an important step in the development of any classification technique).  "
   ]
  },
  {
   "cell_type": "markdown",
   "metadata": {
    "collapsed": true
   },
   "source": [
    "\n",
    "Based on my program, the number that had the lowest accuracy and highest confusion was 5. When I plotted several examples \n",
    "that had 5 in them, it made sense. The code below has a set of only 250 images, I knew beforehand that 5 was the most confused\n",
    "number when I ran the program with k = 3 with a data set of 50,000 images, as a result, the code below will serve the purpose of\n",
    "showing those images and prints out the confusion matrix as well.\n",
    "\n",
    "5 is written in various ways, in some images, it can be regarded as a 6 instead of a 5, and in some rare situations even a 2 or\n",
    "an 8, this can be due to cursive handwriting which confuses the program when classifying the image. \n"
   ]
  },
  {
   "cell_type": "code",
   "execution_count": 11,
   "metadata": {
    "collapsed": true
   },
   "outputs": [],
   "source": [
    "import unittest\n",
    "import numpy as np\n",
    "from sklearn.neighbors import BallTree\n",
    "import matplotlib.pylab as plt\n",
    "import matplotlib.cm as cm\n",
    "import pickle, gzip\n",
    "import random\n",
    "from collections import Counter\n",
    "\n",
    "class Numbers:\n",
    "    def __init__(self, location):\n",
    "        f = gzip.open(location, 'rb')\n",
    "        train_set, valid_set, test_set = pickle.load(f)\n",
    "        f.close()\n",
    "\n",
    "        # store for use later  \n",
    "        self.train_x, self.train_y = train_set\n",
    "        self.test_x, self.test_y = valid_set\n",
    "\n",
    "class Knearest:\n",
    "    \"\"\"\n",
    "    kNN classifier\n",
    "    \"\"\"\n",
    "    def __init__(self, X, y, k=5):\n",
    "        \"\"\"\n",
    "        Creates a kNN instance\n",
    "        :param x: Training data input\n",
    "        :param y: Training data output\n",
    "        :param k: The number of nearest points to consider in classification\n",
    "        \"\"\"\n",
    "\n",
    "        self._kdtree = BallTree(X)\n",
    "        self._y = y\n",
    "        self._k = k\n",
    "        self._counts = self.label_counts()\n",
    "        \n",
    "    def label_counts(self): \n",
    "        dictionary = { }\n",
    "        for labels in self._y:\n",
    "            if labels not in dictionary:\n",
    "                dictionary[labels] = 0\n",
    "            dictionary[labels] += 1\n",
    "\n",
    "        return dictionary\n",
    "\n",
    "    def majority(self, neighbor_indices):\n",
    "        assert len(neighbor_indices) == self._k, \"Did not get k neighbor indices\"\n",
    "\n",
    "        neighbor_labels = [self._y[i] for i in neighbor_indices] #given indices, grab the corresponding labels from self._y\n",
    "        \n",
    "        labels_frequency = { }\n",
    "        for labels in neighbor_labels:\n",
    "            if labels not in labels_frequency:\n",
    "                labels_frequency[labels] = 0\n",
    "            labels_frequency[labels] += 1\n",
    "            \n",
    "        maximum = max(labels_frequency, key = labels_frequency.get)\n",
    "        maximum_label = 0\n",
    "\n",
    "        if labels_frequency[maximum] == 1:\n",
    "            for x in labels_frequency:\n",
    "                if self._counts[x] > maximum_label:\n",
    "                    maximum_label = self._counts[x]\n",
    "                    maximum = x\n",
    "\n",
    "        return maximum\n",
    "    \n",
    "    def classify(self, example):\n",
    "        dist, ind = self._kdtree.query(np.array(example).reshape(1, -1), k=self._k)\n",
    "        return self.majority(ind[0])\n",
    "\n",
    "    def confusion_matrix(self, test_x, test_y):\n",
    "        C = np.zeros((10,10), dtype=int)\n",
    "        picture_index = 0\n",
    "        print(\"doing confusion stuff\")\n",
    "        for xx, yy in zip(test_x, test_y):\n",
    "            jj = self.classify(xx) #return the predicted label\n",
    "            C[yy][jj] += 1 #increase by 1 where true label and predicted label intersect\n",
    "            \n",
    "            if jj == 5 and picture_index < 5:\n",
    "                plt.imshow(xx.reshape((28, 28)), cmap=cm.Greys_r)\n",
    "                plt.show()\n",
    "                picture_index+=1\n",
    "\n",
    "        print(C)\n",
    "        return C \n",
    "            \n",
    "    @staticmethod\n",
    "    def accuracy(C):\n",
    "        return np.sum(C.diagonal()) / C.sum()\n",
    "    \n",
    "    def view_digit(example, label=None):\n",
    "        if label: print(\"true label: {:d}\".format(label))\n",
    "        plt.imshow(example.reshape(28,28), cmap='gray');"
   ]
  },
  {
   "cell_type": "code",
   "execution_count": null,
   "metadata": {},
   "outputs": [
    {
     "name": "stdout",
     "output_type": "stream",
     "text": [
      "doing confusion stuff\n"
     ]
    },
    {
     "data": {
      "image/png": "[encoded data removed]",
      "text/plain": [
       "<matplotlib.figure.Figure at 0x2590007f278>"
      ]
     },
     "metadata": {},
     "output_type": "display_data"
    },
    {
     "data": {
      "image/png": "[encoded data removed]",
      "text/plain": [
       "<matplotlib.figure.Figure at 0x259000d2f98>"
      ]
     },
     "metadata": {},
     "output_type": "display_data"
    },
    {
     "data": {
      "image/png": "[encoded data removed]",
      "text/plain": [
       "<matplotlib.figure.Figure at 0x259000d9b38>"
      ]
     },
     "metadata": {},
     "output_type": "display_data"
    },
    {
     "data": {
      "image/png": "[encoded data removed]",
      "text/plain": [
       "<matplotlib.figure.Figure at 0x259014ee9b0>"
      ]
     },
     "metadata": {},
     "output_type": "display_data"
    },
    {
     "data": {
      "image/png": "[encoded data removed]",
      "text/plain": [
       "<matplotlib.figure.Figure at 0x2590152dcf8>"
      ]
     },
     "metadata": {},
     "output_type": "display_data"
    }
   ],
   "source": [
    "data = Numbers(\"../data/mnist.pklz\")\n",
    "'''\n",
    "Two Tests, one with x = 50,000 and k = 3 to compute the confusion matrix. Another with x = 250 and k = 3 just to print out the\n",
    "images. Note, I did not use the function provided to print out the images. \n",
    "'''\n",
    "x = 50000\n",
    "knn = Knearest(data.train_x[:x], data.train_y[:x], 3)\n",
    "C = knn.confusion_matrix(data.train_x[:x], data.train_y[:x])\n",
    "accurate = knn.accuracy(C)\n",
    "\n",
    "x = 250\n",
    "knn = Knearest(data.train_x[:x], data.train_y[:x], 3)\n",
    "C = knn.confusion_matrix(data.train_x[:x], data.train_y[:x])\n",
    "accurate = knn.accuracy(C)"
   ]
  },
  {
   "cell_type": "code",
   "execution_count": null,
   "metadata": {
    "collapsed": true
   },
   "outputs": [],
   "source": []
  }
 ],
 "metadata": {
  "celltoolbar": "Attachments",
  "kernelspec": {
   "display_name": "Python 3",
   "language": "python",
   "name": "python3"
  },
  "language_info": {
   "codemirror_mode": {
    "name": "ipython",
    "version": 3
   },
   "file_extension": ".py",
   "mimetype": "text/x-python",
   "name": "python",
   "nbconvert_exporter": "python",
   "pygments_lexer": "ipython3",
   "version": "3.6.3"
  }
 },
 "nbformat": 4,
 "nbformat_minor": 2
}
